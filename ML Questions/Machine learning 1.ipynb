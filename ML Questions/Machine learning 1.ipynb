{
 "cells": [
  {
   "cell_type": "markdown",
   "id": "09308944",
   "metadata": {},
   "source": [
    "### 1. What does one mean by the term &quot;machine learning&quot;?"
   ]
  },
  {
   "cell_type": "markdown",
   "id": "ab9039d7",
   "metadata": {},
   "source": [
    "Ans:  Machine Learning is an application of artificial intelligence where a computer/machine learns from the past experiences (input data) and makes future predictions."
   ]
  },
  {
   "cell_type": "markdown",
   "id": "6debb1d9",
   "metadata": {},
   "source": [
    "### 2.Can you think of 4 distinct types of issues where it shines?"
   ]
  },
  {
   "cell_type": "markdown",
   "id": "a79a09e2",
   "metadata": {},
   "source": [
    "Ans: Major challenges faced by machine learning is:\n",
    "\n",
    "Not enough training data: it takes a lot of data for most of the algorithms to function properly.\n",
    "\n",
    "Poor Quality of data: if your training data has lots of errors, outliers, and noise, it will make it impossible for your machine learning model to detect a proper underlying pattern. Hence, it will not perform well.\n",
    "\n",
    "Overfitting of data: In machine learning, Overfitting is when model performs well on training data but fails to generalize on new data because of High variance and low bias and complexity of data.\n",
    "\n",
    "Underfitting of data: It is the opposite of overfitting. It happens when our model is too simple to learn something from the data, we also say that High bias and low variance caused the underfitting."
   ]
  },
  {
   "cell_type": "markdown",
   "id": "3d4eaf85",
   "metadata": {},
   "source": [
    "### 3.What is a labeled training set, and how does it work?"
   ]
  },
  {
   "cell_type": "markdown",
   "id": "0651e77c",
   "metadata": {},
   "source": [
    "Ans:  A training set is a portion of a data set used to trained a model for prediction or classification of values that are known in the training set, but unknown in other (future) data. it directly say  Data that comes with a label is known as labeled data and it used in supervised learning. When you applied model on labeled dataset it predict values."
   ]
  },
  {
   "cell_type": "markdown",
   "id": "6bdc4fc1",
   "metadata": {},
   "source": [
    "### 4.What are the two most important tasks that are supervised?"
   ]
  },
  {
   "cell_type": "markdown",
   "id": "00fae8aa",
   "metadata": {},
   "source": [
    "Ans: The Two most important task that are supervised is regression and classification. In regression, a single output value is produced using training data And In Classification, it involves grouping the data into classes."
   ]
  },
  {
   "cell_type": "markdown",
   "id": "e3af6466",
   "metadata": {},
   "source": [
    "### 5.Can you think of four examples of unsupervised tasks?"
   ]
  },
  {
   "cell_type": "markdown",
   "id": "d72b6c85",
   "metadata": {},
   "source": [
    "Ans: Common unsupervised tasks is: \n",
    "1. clustering \n",
    "2. visualization \n",
    "3. dimensionality reduction \n",
    "4. association rule learning."
   ]
  },
  {
   "cell_type": "markdown",
   "id": "0503b18d",
   "metadata": {},
   "source": [
    "### 6.State the machine learning model that would be best to make a robot walk through various unfamiliar terrains?"
   ]
  },
  {
   "cell_type": "markdown",
   "id": "fa8b1c99",
   "metadata": {},
   "source": [
    "Ans: Using reinforcement learning, the robot would gradually learn how to walk through different terrains in much the same way as animals learn."
   ]
  },
  {
   "cell_type": "markdown",
   "id": "8a833851",
   "metadata": {},
   "source": [
    "###  7.Which algorithm will you use to divide your customers into different groups?"
   ]
  },
  {
   "cell_type": "markdown",
   "id": "0cbe1695",
   "metadata": {},
   "source": [
    "Ans: The k-means clustering algorithm"
   ]
  },
  {
   "cell_type": "markdown",
   "id": "8acd3bf4",
   "metadata": {},
   "source": [
    "### 8.Will you consider the problem of spam detection to be a supervised or unsupervised learning problem?"
   ]
  },
  {
   "cell_type": "markdown",
   "id": "863fda80",
   "metadata": {},
   "source": [
    "Ans: The problem of Spam detection is a supervised machine learning."
   ]
  },
  {
   "cell_type": "markdown",
   "id": "c31ffc0f",
   "metadata": {},
   "source": [
    "### 9.What is the concept of an online learning system?"
   ]
  },
  {
   "cell_type": "markdown",
   "id": "b521711f",
   "metadata": {},
   "source": [
    "Ans: It is a type of machine learning in which data is acquired sequentially and utilised to update the best predictor for future data at each step. in short, Online Learning based on each pattern as it is observed."
   ]
  },
  {
   "cell_type": "markdown",
   "id": "76822a5e",
   "metadata": {},
   "source": [
    "### 10.What is out-of-core learning, and how does it differ from core learning?"
   ]
  },
  {
   "cell_type": "markdown",
   "id": "7f949de3",
   "metadata": {},
   "source": [
    "Ans: Out-of-core leanring refers to the machine learning algorithms working with data cannot fit into the memory of a single machine, but that can easily fit into some data storage such as local hard disk or web repository. "
   ]
  },
  {
   "cell_type": "markdown",
   "id": "faba6704",
   "metadata": {},
   "source": [
    "### 11.What kind of learning algorithm makes predictions using a similarity measure?"
   ]
  },
  {
   "cell_type": "markdown",
   "id": "438a420f",
   "metadata": {},
   "source": [
    "Ans: The instance-based algorithm makes predictions using a similarity measure."
   ]
  },
  {
   "cell_type": "markdown",
   "id": "8bf2e023",
   "metadata": {},
   "source": [
    "### 12.What&#39;s the difference between a model parameter and a hyperparameter in a learning algorithm?"
   ]
  },
  {
   "cell_type": "markdown",
   "id": "5378202b",
   "metadata": {},
   "source": [
    "Ans:  In model parameter, Parameters are the configuration model, which are internal to the model and it is  essential for making predictions. These are specified or estimated while training the model. but on the other hand In hyperparameter, These are set manually and are used in the optimization of the model and help in estimating the model parameters."
   ]
  },
  {
   "cell_type": "markdown",
   "id": "0b0a9459",
   "metadata": {},
   "source": [
    "### 13.What are the criteria that model-based learning algorithms look for? What is the most popular method they use to achieve success? What method do they use to make predictions?"
   ]
  },
  {
   "cell_type": "markdown",
   "id": "972e18eb",
   "metadata": {},
   "source": [
    "Ans: A model-based learning algorithm needs a optimal value of the model parameters to generalize the model. The most common strategy is minimizing the loss & accuracy or regularization this can be achieved by applying problem wised model one by one. Prediction in machine learning refers to the output of an algorithm after it has been trained on a historical dataset and applied to new data when forecasting the likelihood of a particular outcome."
   ]
  },
  {
   "cell_type": "markdown",
   "id": "353c29d8",
   "metadata": {},
   "source": [
    "### 14.Can you name four of the most important Machine Learning challenges?\n"
   ]
  },
  {
   "cell_type": "markdown",
   "id": "fc0ac7d2",
   "metadata": {},
   "source": [
    "Ans: Four challenges faced by machine learning is:\n",
    "\n",
    "1. Not enough training data.\n",
    "\n",
    "2. Poor Quality of data.\n",
    "\n",
    "3. Overfitting of data. \n",
    "\n",
    "4. Underfitting of data. \n"
   ]
  },
  {
   "cell_type": "markdown",
   "id": "0c5ef799",
   "metadata": {},
   "source": [
    "### 15.What happens if the model performs well on the training data but fails to generalize the results to new situations? Can you think of three different options?"
   ]
  },
  {
   "cell_type": "markdown",
   "id": "f640a70f",
   "metadata": {},
   "source": [
    "Ans: When if the model performs well on the training data but fails to generalize the results to new situations so it will be an overfitting problem. We can reduce overfitting by :\n",
    "\n",
    "1. Train with more data.\n",
    "2. Cross- validation.\n",
    "3. Regularization."
   ]
  },
  {
   "cell_type": "markdown",
   "id": "22c616f7",
   "metadata": {},
   "source": [
    "### 16.What exactly is a test set, and why would you need one?"
   ]
  },
  {
   "cell_type": "markdown",
   "id": "32695be1",
   "metadata": {},
   "source": [
    "Ans: A test set in machine learning is a secondary (or tertiary) data set that is used to test a machine learning program after it has been trained on an initial training data set. The idea is that predictive models always have some sort of unknown capacity that needs to be tested out, as opposed to analyzed from a programming perspective. A test set is also known as a test data set or test data"
   ]
  },
  {
   "cell_type": "markdown",
   "id": "1c6a4b1c",
   "metadata": {},
   "source": [
    "### 17.What is a validation set&#39;s purpose?"
   ]
  },
  {
   "cell_type": "markdown",
   "id": "73c62364",
   "metadata": {},
   "source": [
    "Ans: In machine learning, a validation set is used to “tune the parameters” of a classifier. The validation test evaluates the program’s capability according to the variation of parameters to see how it might function in successive testing.\n",
    "The validation set is also known as a validation data set, development set."
   ]
  },
  {
   "cell_type": "markdown",
   "id": "54167f90",
   "metadata": {},
   "source": [
    "### 18.What precisely is the train-dev kit, when will you need it, how do you put it to use?"
   ]
  },
  {
   "cell_type": "markdown",
   "id": "f2fb6d9f",
   "metadata": {},
   "source": [
    "Ans: Using Dev set we rank all our models in terms of their accuracy and pick the best performing model. it also helps in avoiding or minimizing overfitting and simultaneously controls the learning rate."
   ]
  },
  {
   "cell_type": "markdown",
   "id": "d05ebeb3",
   "metadata": {},
   "source": [
    "### 19.What could go wrong if you use the test set to tune hyperparameters?\n"
   ]
  },
  {
   "cell_type": "markdown",
   "id": "3578b9c7",
   "metadata": {},
   "source": [
    "Ans:  you actually lose the possibility to find out how good your model would actually be on unseen data (because it has already seen the test data)."
   ]
  }
 ],
 "metadata": {
  "kernelspec": {
   "display_name": "Python 3 (ipykernel)",
   "language": "python",
   "name": "python3"
  },
  "language_info": {
   "codemirror_mode": {
    "name": "ipython",
    "version": 3
   },
   "file_extension": ".py",
   "mimetype": "text/x-python",
   "name": "python",
   "nbconvert_exporter": "python",
   "pygments_lexer": "ipython3",
   "version": "3.9.7"
  }
 },
 "nbformat": 4,
 "nbformat_minor": 5
}
