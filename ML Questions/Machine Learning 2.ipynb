{
 "cells": [
  {
   "cell_type": "markdown",
   "id": "3c355420",
   "metadata": {},
   "source": [
    "1. What is the concept of human learning? Please give two examples."
   ]
  },
  {
   "cell_type": "markdown",
   "id": "b734d5df",
   "metadata": {},
   "source": [
    "Ans: Learning is, basically, a model that represents a pattern within a collection of observations. Without a feasible model, there is no learning. Human learning is all about observing things, recognizing a pattern, elaborating a theory or model which explains that pattern, and then putting that theory to the test and checking whether it matches most or all of the observations.\n",
    "\n",
    "Example:\n",
    "- Learning to drive a motor-car,\n",
    "- memorizing a poem."
   ]
  },
  {
   "cell_type": "markdown",
   "id": "fbf8d04b",
   "metadata": {},
   "source": [
    "2. What different forms of human learning are there? Are there any machine learning equivalents?"
   ]
  },
  {
   "cell_type": "markdown",
   "id": "48a47cc8",
   "metadata": {},
   "source": [
    "Ans: There are so many types of Human Learning are there, some of the important learning are:\n",
    "- Visual learning style\n",
    "- Auditory learning style\n",
    "- Kinesthetic learning style\n",
    "- Reading/Writing\n",
    "    \n",
    "Among all the Learning, Some of the human learning are equivalents to machine learning like:\n",
    "- Concept learning is similar to supervised learning.\n",
    "- Artificial neural networks follow the neuronal principle of Hebbian learning.\n",
    "- Reinforcement learning is inspired by the reward system of operant conditioning.\n"
   ]
  },
  {
   "cell_type": "markdown",
   "id": "305310b6",
   "metadata": {},
   "source": [
    "3. What is machine learning, and how does it work? What are the key responsibilities of machine learning?"
   ]
  },
  {
   "cell_type": "markdown",
   "id": "c2494b44",
   "metadata": {},
   "source": [
    "Ans: Machine learning is a branch of artificial intelligence (AI) and computer science which focuses on the use of data and algorithms to imitate the way that humans learn, gradually improving its accuracy.\n",
    "\n",
    "Machine learning uses two types of techniques: supervised learning, which trains a model on known input and output data so that it can predict future outputs, and unsupervised learning, which finds hidden patterns or intrinsic structures in input data.\n",
    "\n",
    "Responsibility of machine learning:\n",
    "- The ability to perform automated data visualization.\n",
    "- Automation at its best.\n",
    "- Customer engagement like never before\n",
    "- The ability to take efficiency to the next level when merged with IoT\n",
    "- The ability to change the mortgage market\n",
    "- Accurate data analysis\n",
    "- Business intelligence at its best\n",
    "\n"
   ]
  },
  {
   "cell_type": "markdown",
   "id": "0eb48ed5",
   "metadata": {},
   "source": [
    "4. Define the terms &quot;penalty&quot; and &quot;reward&quot; in the context of reinforcement learning."
   ]
  },
  {
   "cell_type": "markdown",
   "id": "5c24a28b",
   "metadata": {},
   "source": [
    "Ans: In Reinforcement Learning (RL), agents(computer program) are trained on a reward and punishment mechanism. The agent is rewarded for correct moves and punished for the wrong ones. In doing so, the agent tries to minimize wrong moves and maximize the right ones. "
   ]
  },
  {
   "cell_type": "markdown",
   "id": "45027b91",
   "metadata": {},
   "source": [
    "5. Explain the term &quot;learning as a search&quot;?"
   ]
  },
  {
   "cell_type": "markdown",
   "id": "7529cb30",
   "metadata": {},
   "source": [
    "And: Learning can be viewed as a search through the space of all sentences in a  concept description language for a sentence that best describes the data. Alternatively, it can be viewed as a search through all hypotheses in a hypothesis space. In either case, a generality relation usually determines the structure of the search space."
   ]
  },
  {
   "cell_type": "markdown",
   "id": "1dd50b4a",
   "metadata": {},
   "source": [
    "6. What are the various goals of machine learning? What is the relationship between these and\n",
    "human learning?"
   ]
  },
  {
   "cell_type": "markdown",
   "id": "33325323",
   "metadata": {},
   "source": [
    "Ans: The Goals of Machine Learning:\n",
    "- To make the computers smarter, more intelligent.\n",
    "- To develop computational models of human learning process and perform computer simulations.\n",
    "- To explore new learning methods and develop general learning algorithms independent of application\n",
    "- Rapid increment in the production of data\n",
    "- Solving complex problems, which are difficult for a human\n",
    "\n",
    "Similarity between Machine learning and human learning is Humans acquire knowledge through experience either directly or shared by others. Machines acquire knowledge through experience shared in the form of past data. We have the terms, Knowledge, Skill, and Memory being used to define intelligence. Just because you have good memory, that does not mean you are intelligent.\n"
   ]
  },
  {
   "cell_type": "markdown",
   "id": "d640c8f4",
   "metadata": {},
   "source": [
    "7. Illustrate the various elements of machine learning using a real-life illustration."
   ]
  },
  {
   "cell_type": "markdown",
   "id": "72651c6f",
   "metadata": {},
   "source": [
    "Ans: some of the various elements of machine learning in daily life are:\n",
    " 1. Email Intelligence ( Spam Filters, Email Classification, Smart Replies)\n",
    " 2. Banking and Personal Finance ( Fraud Prevention, Credit Decisions, Check Deposit on Mobile )\n",
    " 3. Social Networking ( Facebook, Pinterest, Instagram )\n",
    " 4. Personal Smart Assistants (Siri, Cortana, Google Assistant, Alexa )\n",
    " 5. Video Surveillance (Abnormal event detection, Facility protections, Traffic monitoring)"
   ]
  },
  {
   "cell_type": "markdown",
   "id": "60871bff",
   "metadata": {},
   "source": [
    "8. Provide an example of the abstraction method."
   ]
  },
  {
   "cell_type": "markdown",
   "id": "a0ae3806",
   "metadata": {},
   "source": [
    "Ans: In Machine Learning, Abstraction is supported primarily at the level of modules. This can be justified in two ways: first, Data abstraction is mostly a question of program interfaces and therefore it arises naturally at the point where we have to consider program composition and modules."
   ]
  },
  {
   "cell_type": "markdown",
   "id": "faa1eaac",
   "metadata": {},
   "source": [
    "9. What is the concept of generalization? What function does it play in the machine learning\n",
    "process?"
   ]
  },
  {
   "cell_type": "markdown",
   "id": "8f2d9b9c",
   "metadata": {},
   "source": [
    "Ans: In machine learning, generalization is a definition to demonstrate how well is a trained model to classify or forecast unseen data. Training a generalized machine learning model means, in general, it works for all subset of unseen data.\n",
    "\n",
    "An example is when we train a model to classify between dogs and cats. If the model is provided with dogs images dataset with only two breeds, it may obtain a good performance. But, it possibly gets a low classification score when it is tested by other breeds of dogs as well. This issue can result to classify an actual dog image as a cat from the unseen dataset."
   ]
  },
  {
   "cell_type": "markdown",
   "id": "7b283d22",
   "metadata": {},
   "source": [
    "10. What is classification, exactly? What are the main distinctions between classification and regression?"
   ]
  },
  {
   "cell_type": "markdown",
   "id": "e1971dff",
   "metadata": {},
   "source": [
    "Ans: The Classification algorithm is a Supervised Learning technique that is used to identify the category of new observations on the basis of training data. In Classification, a program learns from the given dataset or observations and then classifies new observation into a number of classes or groups. Such as, Yes or No, 0 or 1, Spam or Not Spam, cat or dog, etc. Classes can be called as targets/labels or categories.\n",
    "\n",
    "The Main distinctions between Regression and Classification:\n",
    "- The output variable must be either continuous nature or real value and In classification, The output variable has to be a discrete value.\n",
    "- It attempt to find the best fit line, which predicts the output more accurately and In classification tries to find the decision boundary, which divides the dataset into different classes.\n",
    "- Regression algorithms solve regression problems such as house price predictions and weather predictions. and  In Classification algorithms solve classification problems like identifying spam e-mails, spotting cancer cells, and speech recognition.\n",
    "- We can further divide Regression algorithms into Linear and Non-linear Regression. and In classification, We can further divide Classification algorithms into Binary Classifiers and Multi-class Classifiers."
   ]
  },
  {
   "cell_type": "markdown",
   "id": "9932b28b",
   "metadata": {},
   "source": [
    "11. What is regression, and how does it work? Give an example of a real-world problem that was\n",
    "solved using regression."
   ]
  },
  {
   "cell_type": "markdown",
   "id": "ea9db2d0",
   "metadata": {},
   "source": [
    "Ans: Regression analysis helps in the prediction of a continuous variable. There are various scenarios in the real world where we need some future predictions such as weather condition, sales prediction, marketing trends, etc., for such case we need some technology which can make predictions more accurately. So for such case we need Regression analysis which is a statistical method and used in machine learning and data science."
   ]
  },
  {
   "cell_type": "markdown",
   "id": "860e0a04",
   "metadata": {},
   "source": [
    "12. Describe the clustering mechanism in detail."
   ]
  },
  {
   "cell_type": "markdown",
   "id": "af7cc938",
   "metadata": {},
   "source": [
    "Ans: Clustering or cluster analysis is a machine learning technique, which groups the unlabelled dataset. It can be defined as \"A way of grouping the data points into different clusters, consisting of similar data points. The objects with the possible similarities remain in a group that has less or no similarities with another group.\"\n",
    "\n",
    "It does it by finding some similar patterns in the unlabelled dataset such as shape, size, color, behavior, etc., and divides them as per the presence and absence of those similar patterns."
   ]
  },
  {
   "cell_type": "markdown",
   "id": "27800fdf",
   "metadata": {},
   "source": [
    "13. Make brief observations on two of the following topics:\n",
    "\n",
    "i. Machine learning algorithms are used\n",
    "ii. Studying under supervision\n",
    "iii. Studying without supervision\n",
    "\n",
    "iv. Reinforcement learning is a form of learning based on positive reinforcement."
   ]
  },
  {
   "cell_type": "markdown",
   "id": "86a99d49",
   "metadata": {},
   "source": [
    "Ans: i. Machine learning algorithms are used: Machine Learning uses programmed algorithms that receive and analyse input data to predict output values within an acceptable range. As new data is fed to these algorithms, they learn and optimise their operations to improve performance, developing intelligence over time.\n",
    "\n",
    "ii. Studying Under Supervision: In machine learning, there are two important categories- Supervised and Unsupervised learning.Supervised learning, an algorithm learns from a training dataset. We know the correct answers or desired output, the algorithm makes predictions using the given dataset and is corrected by the “supervisor”."
   ]
  }
 ],
 "metadata": {
  "kernelspec": {
   "display_name": "Python 3 (ipykernel)",
   "language": "python",
   "name": "python3"
  },
  "language_info": {
   "codemirror_mode": {
    "name": "ipython",
    "version": 3
   },
   "file_extension": ".py",
   "mimetype": "text/x-python",
   "name": "python",
   "nbconvert_exporter": "python",
   "pygments_lexer": "ipython3",
   "version": "3.9.7"
  }
 },
 "nbformat": 4,
 "nbformat_minor": 5
}
