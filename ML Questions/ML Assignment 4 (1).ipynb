{
 "cells": [
  {
   "cell_type": "markdown",
   "id": "b0594bf1",
   "metadata": {},
   "source": [
    "1. What are the key tasks involved in getting ready to work with machine learning modeling?"
   ]
  },
  {
   "cell_type": "markdown",
   "id": "103f213d",
   "metadata": {},
   "source": [
    "Ans: There are some major keys responsibility which is important for Machine Learning.\n",
    "\n",
    "- Identification of the business problem.\n",
    "- Identification of data. \n",
    "- Collect and prepare the data.\n",
    "- Choose and train your machine model.\n",
    "- Evaluation\n",
    "- Experiment and adjustment of the model\n",
    "- Prediction"
   ]
  },
  {
   "cell_type": "markdown",
   "id": "c85efa00",
   "metadata": {},
   "source": [
    "2. What are the different forms of data used in machine learning? Give a specific example for each of\n",
    "them."
   ]
  },
  {
   "cell_type": "markdown",
   "id": "b10e23c4",
   "metadata": {},
   "source": [
    "Ans: Data can come in many forms, but machine learning models rely on four primary data types. These include - \n",
    "- numerical data : height, weight, or the cost of your phone bill.\n",
    "- categorical data : This can include gender, social class and hometown.\n",
    "- time series data : This can include week, month, date, time.\n",
    "- text data : Text data is simply words, sentences, or paragraph"
   ]
  },
  {
   "cell_type": "markdown",
   "id": "df7faf94",
   "metadata": {},
   "source": [
    "3. Distinguish:\n",
    "\n",
    "-  Numeric vs. categorical attributes\n",
    "\n",
    "-  Feature selection vs. dimensionality reduction"
   ]
  },
  {
   "cell_type": "markdown",
   "id": "07328ea5",
   "metadata": {},
   "source": [
    "Ans : \n",
    "- Numeric vs categorical attributes: \n",
    "\n",
    "Numerical data, or quantitative data, is any form of measurable data such as your height, weight, or the cost of your phone bill. You can determine if a set of data is numerical by attempting to average out the numbers or sort them in ascending or descending order. and on the other hand categorical can include gender, social class, ethnicity, hometown, the industry you work in, or a variety of other labels. While learning this data type, keep in mind that it is non-numerical, meaning you are unable to add them together, average them out, or sort them in any chronological order.\n",
    "\n",
    "- Feature selection vs. dimensionality reduction\n",
    "\n",
    "While both methods are used for reducing the number of features in a dataset, there is an important difference. Feature selection is simply selecting and excluding given features without changing them. and  the Dimensionality reduction transforms features into a lower dimension\n",
    "\n"
   ]
  },
  {
   "cell_type": "markdown",
   "id": "d1e797b8",
   "metadata": {},
   "source": [
    "4. Make quick notes on any two of the following:\n",
    "\n",
    "- The histogram\n",
    "\n",
    "- Use a scatter plot\n",
    "\n",
    "- PCA (Personal Computer Aid)"
   ]
  },
  {
   "cell_type": "markdown",
   "id": "bbcaa16e",
   "metadata": {},
   "source": [
    "Ans: \n",
    "- histogram :  A histogram is basically used to represent data provided in a form of some groups.It is accurate method for the graphical representation of numerical data distribution.It is a type of bar plot where X-axis represents the bin ranges while Y-axis gives information about frequency"
   ]
  },
  {
   "cell_type": "code",
   "execution_count": 7,
   "id": "ed63622a",
   "metadata": {},
   "outputs": [
    {
     "data": {
      "image/png": "[encoded data removed]",
      "text/plain": [
       "<Figure size 360x360 with 1 Axes>"
      ]
     },
     "metadata": {
      "needs_background": "light"
     },
     "output_type": "display_data"
    }
   ],
   "source": [
    "from matplotlib import pyplot as plt\n",
    "import numpy as np\n",
    "                                            # Creating dataset\n",
    "a = np.array([22, 87, 5, 43, 56,\n",
    "              73, 55, 54, 11,\n",
    "              20, 51, 5, 79, 31,\n",
    "              27])\n",
    "                                            # Creating histogram\n",
    "fig, ax = plt.subplots(figsize =(5, 5))\n",
    "ax.hist(a, bins = [0, 25, 50, 75, 100])\n",
    "# Show plot\n",
    "plt.show()"
   ]
  },
  {
   "cell_type": "markdown",
   "id": "9630836d",
   "metadata": {},
   "source": [
    "- Scatter plot : Scatter plots are used to observe relationship between variables and uses dots to represent the relationship between them. The scatter() method in the matplotlib library is used to draw a scatter plot. Scatter plots are widely used to represent relation among variables and how change in one affects the other."
   ]
  },
  {
   "cell_type": "code",
   "execution_count": 5,
   "id": "a17edca6",
   "metadata": {},
   "outputs": [
    {
     "data": {
      "image/png": "[encoded data removed]",
      "text/plain": [
       "<Figure size 432x288 with 1 Axes>"
      ]
     },
     "metadata": {
      "needs_background": "light"
     },
     "output_type": "display_data"
    }
   ],
   "source": [
    "x =[5, 7, 8, 7, 2, 17, 2, 9,\n",
    "    4, 11, 12, 9, 6]\n",
    " \n",
    "y =[99, 86, 87, 88, 100, 86,\n",
    "    103, 87, 94, 78, 77, 85, 86]\n",
    " \n",
    "plt.scatter(x, y, c =\"blue\")\n",
    " \n",
    "# To show the plot\n",
    "plt.show()"
   ]
  },
  {
   "cell_type": "markdown",
   "id": "ff726646",
   "metadata": {},
   "source": [
    "5. Why is it necessary to investigate data? Is there a discrepancy in how qualitative and quantitative\n",
    "data are explored?"
   ]
  },
  {
   "cell_type": "markdown",
   "id": "03733348",
   "metadata": {},
   "source": [
    "Ans: If your data set is messy, building models will not help you to solve your problem. What will happen is Garbage In, Garbage Out. In order to build a powerful machine learning algorithm. We need to explore and understand our data set before we define a predictive task and solve it."
   ]
  },
  {
   "cell_type": "markdown",
   "id": "a8037733",
   "metadata": {},
   "source": [
    "6. What are the various histogram shapes? What exactly are ‘bins' ?"
   ]
  },
  {
   "cell_type": "markdown",
   "id": "c97aa3d6",
   "metadata": {},
   "source": [
    "Ans:  The different types of a Histogram are:\n",
    "\n",
    "- Uniform Histogram\n",
    "- Symmetric Histogram\n",
    "- Bimodal Histogram\n",
    "- Probability Histogram.\n",
    "\n",
    "The bin in a histogram is the choice of unit and spacing on the X-axis. All the data in a probability distribution represented visually by a histogram is filled into the corresponding bins. The height of each bin is a measurement of the frequency with which data appears inside the range of that bin in the distribution."
   ]
  },
  {
   "cell_type": "markdown",
   "id": "26b653ef",
   "metadata": {},
   "source": [
    "7. How do we deal with data outliers?"
   ]
  },
  {
   "cell_type": "markdown",
   "id": "74504a5b",
   "metadata": {},
   "source": [
    "Ans: We can use Z-Score or any of below methods to deal with data outliers:\n",
    "\n",
    "- Univariate Method: This method looks for data points with extreme values on one variable.\n",
    "\n",
    "- Multivariate Method: Here, we look for unusual combinations of all the variables.\n",
    "\n",
    "- Minkowski Error: This method reduces the contribution of potential outliers in the training process.\n",
    "\n",
    "- Z-Score: This can be done with just one line code as we have already calculated the Z-score.\n",
    "<i>boston_df_o = boston_df_o[(z < 3).all(axis=1)]</i>\n",
    "\n",
    "- IQR Score: Calculate IQR score to filter out the outliers by keeping only valid values.\n",
    "<i>boston_df_out = boston_df_o1[~((boston_df_o1 < (Q1 - 1.5 * IQR)) |(boston_df_o1 > (Q3 + 1.5 *IQR))).any(axis=1)]\n",
    "    boston_df_out.shape</i>\n",
    "\n",
    "- Quantile function: Use quantile() to remove amount of data."
   ]
  },
  {
   "cell_type": "markdown",
   "id": "0a907fb9",
   "metadata": {},
   "source": [
    "8. What are the various central inclination measures? Why does mean vary too much from median in certain data sets "
   ]
  },
  {
   "cell_type": "markdown",
   "id": "6689cad8",
   "metadata": {},
   "source": [
    "Ans: Mean, Median and Mode are Central Inclination Measures. Mean varies more than Median due to presence of outliers, as mean is averaging all points while median in like finding a middle number."
   ]
  },
  {
   "cell_type": "markdown",
   "id": "f266ea51",
   "metadata": {},
   "source": [
    "9. Describe how a scatter plot can be used to investigate bivariate relationships. Is it possible to find outliers using a scatter plot ?\n",
    "\n",
    "Ans: A Scatter Plot (aka scatter chart, scatter graph) uses dots to represent values for two different numeric variables. The position of each dot on the horizontal and vertical axis indicates values for an individual data point. So this visualization gives us the idea of bivariate relationship.\n",
    "scatter plot can also help finding outliers as outliers can be visualized at farther distance than regular data.\n",
    "\n",
    "10. Describe how cross-tabs can be used to figure out how two variables are related ?\n",
    "\n",
    "Ans: Cross tabulation is a method to quantitatively analyze the relationship between multiple variables. Also known as contingency tables or cross tabs, cross tabulation groups variables to understand the correlation between different variables. It also shows how correlations change from one variable grouping to another."
   ]
  },
  {
   "cell_type": "code",
   "execution_count": null,
   "id": "29ba00ff",
   "metadata": {},
   "outputs": [],
   "source": []
  }
 ],
 "metadata": {
  "kernelspec": {
   "display_name": "Python 3 (ipykernel)",
   "language": "python",
   "name": "python3"
  },
  "language_info": {
   "codemirror_mode": {
    "name": "ipython",
    "version": 3
   },
   "file_extension": ".py",
   "mimetype": "text/x-python",
   "name": "python",
   "nbconvert_exporter": "python",
   "pygments_lexer": "ipython3",
   "version": "3.9.7"
  }
 },
 "nbformat": 4,
 "nbformat_minor": 5
}
